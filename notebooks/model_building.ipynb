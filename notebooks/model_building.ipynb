{
 "cells": [
  {
   "cell_type": "code",
   "execution_count": 1,
   "metadata": {},
   "outputs": [],
   "source": [
    "import numpy as np\n",
    "import pandas as pd\n",
    "import matplotlib.pyplot as plt"
   ]
  },
  {
   "cell_type": "code",
   "execution_count": 2,
   "metadata": {},
   "outputs": [],
   "source": [
    "data = pd.read_csv('../artifacts/sentiment_analysis.csv')"
   ]
  },
  {
   "cell_type": "code",
   "execution_count": 3,
   "metadata": {},
   "outputs": [
    {
     "data": {
      "text/html": [
       "<div>\n",
       "<style scoped>\n",
       "    .dataframe tbody tr th:only-of-type {\n",
       "        vertical-align: middle;\n",
       "    }\n",
       "\n",
       "    .dataframe tbody tr th {\n",
       "        vertical-align: top;\n",
       "    }\n",
       "\n",
       "    .dataframe thead th {\n",
       "        text-align: right;\n",
       "    }\n",
       "</style>\n",
       "<table border=\"1\" class=\"dataframe\">\n",
       "  <thead>\n",
       "    <tr style=\"text-align: right;\">\n",
       "      <th></th>\n",
       "      <th>id</th>\n",
       "      <th>label</th>\n",
       "      <th>tweet</th>\n",
       "    </tr>\n",
       "  </thead>\n",
       "  <tbody>\n",
       "    <tr>\n",
       "      <th>0</th>\n",
       "      <td>1</td>\n",
       "      <td>0</td>\n",
       "      <td>#fingerprint #Pregnancy Test https://goo.gl/h1...</td>\n",
       "    </tr>\n",
       "    <tr>\n",
       "      <th>1</th>\n",
       "      <td>2</td>\n",
       "      <td>0</td>\n",
       "      <td>Finally a transparant silicon case ^^ Thanks t...</td>\n",
       "    </tr>\n",
       "    <tr>\n",
       "      <th>2</th>\n",
       "      <td>3</td>\n",
       "      <td>0</td>\n",
       "      <td>We love this! Would you go? #talk #makememorie...</td>\n",
       "    </tr>\n",
       "    <tr>\n",
       "      <th>3</th>\n",
       "      <td>4</td>\n",
       "      <td>0</td>\n",
       "      <td>I'm wired I know I'm George I was made that wa...</td>\n",
       "    </tr>\n",
       "    <tr>\n",
       "      <th>4</th>\n",
       "      <td>5</td>\n",
       "      <td>1</td>\n",
       "      <td>What amazing service! Apple won't even talk to...</td>\n",
       "    </tr>\n",
       "  </tbody>\n",
       "</table>\n",
       "</div>"
      ],
      "text/plain": [
       "   id  label                                              tweet\n",
       "0   1      0  #fingerprint #Pregnancy Test https://goo.gl/h1...\n",
       "1   2      0  Finally a transparant silicon case ^^ Thanks t...\n",
       "2   3      0  We love this! Would you go? #talk #makememorie...\n",
       "3   4      0  I'm wired I know I'm George I was made that wa...\n",
       "4   5      1  What amazing service! Apple won't even talk to..."
      ]
     },
     "execution_count": 3,
     "metadata": {},
     "output_type": "execute_result"
    }
   ],
   "source": [
    "data.head()"
   ]
  },
  {
   "cell_type": "markdown",
   "metadata": {},
   "source": [
    "# Data Preprocessing"
   ]
  },
  {
   "cell_type": "code",
   "execution_count": 4,
   "metadata": {},
   "outputs": [
    {
     "data": {
      "text/plain": [
       "(7920, 3)"
      ]
     },
     "execution_count": 4,
     "metadata": {},
     "output_type": "execute_result"
    }
   ],
   "source": [
    "data.shape"
   ]
  },
  {
   "cell_type": "code",
   "execution_count": 5,
   "metadata": {},
   "outputs": [
    {
     "data": {
      "text/plain": [
       "<bound method DataFrame.duplicated of         id  label                                              tweet\n",
       "0        1      0  #fingerprint #Pregnancy Test https://goo.gl/h1...\n",
       "1        2      0  Finally a transparant silicon case ^^ Thanks t...\n",
       "2        3      0  We love this! Would you go? #talk #makememorie...\n",
       "3        4      0  I'm wired I know I'm George I was made that wa...\n",
       "4        5      1  What amazing service! Apple won't even talk to...\n",
       "...    ...    ...                                                ...\n",
       "7915  7916      0  Live out loud #lol #liveoutloud #selfie #smile...\n",
       "7916  7917      0  We would like to wish you an amazing day! Make...\n",
       "7917  7918      0  Helping my lovely 90 year old neighbor with he...\n",
       "7918  7919      0  Finally got my #smart #pocket #wifi stay conne...\n",
       "7919  7920      0  Apple Barcelona!!! #Apple #Store #BCN #Barcelo...\n",
       "\n",
       "[7920 rows x 3 columns]>"
      ]
     },
     "execution_count": 5,
     "metadata": {},
     "output_type": "execute_result"
    }
   ],
   "source": [
    "data.duplicated"
   ]
  },
  {
   "cell_type": "code",
   "execution_count": 6,
   "metadata": {},
   "outputs": [
    {
     "data": {
      "text/plain": [
       "0"
      ]
     },
     "execution_count": 6,
     "metadata": {},
     "output_type": "execute_result"
    }
   ],
   "source": [
    "data.duplicated().sum()"
   ]
  },
  {
   "cell_type": "code",
   "execution_count": 7,
   "metadata": {},
   "outputs": [
    {
     "data": {
      "text/plain": [
       "<bound method DataFrame.isnull of         id  label                                              tweet\n",
       "0        1      0  #fingerprint #Pregnancy Test https://goo.gl/h1...\n",
       "1        2      0  Finally a transparant silicon case ^^ Thanks t...\n",
       "2        3      0  We love this! Would you go? #talk #makememorie...\n",
       "3        4      0  I'm wired I know I'm George I was made that wa...\n",
       "4        5      1  What amazing service! Apple won't even talk to...\n",
       "...    ...    ...                                                ...\n",
       "7915  7916      0  Live out loud #lol #liveoutloud #selfie #smile...\n",
       "7916  7917      0  We would like to wish you an amazing day! Make...\n",
       "7917  7918      0  Helping my lovely 90 year old neighbor with he...\n",
       "7918  7919      0  Finally got my #smart #pocket #wifi stay conne...\n",
       "7919  7920      0  Apple Barcelona!!! #Apple #Store #BCN #Barcelo...\n",
       "\n",
       "[7920 rows x 3 columns]>"
      ]
     },
     "execution_count": 7,
     "metadata": {},
     "output_type": "execute_result"
    }
   ],
   "source": [
    "data.isnull"
   ]
  },
  {
   "cell_type": "code",
   "execution_count": 8,
   "metadata": {},
   "outputs": [
    {
     "data": {
      "text/plain": [
       "id       0\n",
       "label    0\n",
       "tweet    0\n",
       "dtype: int64"
      ]
     },
     "execution_count": 8,
     "metadata": {},
     "output_type": "execute_result"
    }
   ],
   "source": [
    "data.isnull().sum()"
   ]
  },
  {
   "cell_type": "markdown",
   "metadata": {},
   "source": [
    "### Text Preprocessing"
   ]
  },
  {
   "cell_type": "code",
   "execution_count": 18,
   "metadata": {},
   "outputs": [],
   "source": [
    "import re\n",
    "import string\n",
    "import nltk"
   ]
  },
  {
   "cell_type": "code",
   "execution_count": 10,
   "metadata": {},
   "outputs": [
    {
     "data": {
      "text/plain": [
       "0    #fingerprint #Pregnancy Test https://goo.gl/h1...\n",
       "1    Finally a transparant silicon case ^^ Thanks t...\n",
       "2    We love this! Would you go? #talk #makememorie...\n",
       "3    I'm wired I know I'm George I was made that wa...\n",
       "4    What amazing service! Apple won't even talk to...\n",
       "Name: tweet, dtype: object"
      ]
     },
     "execution_count": 10,
     "metadata": {},
     "output_type": "execute_result"
    }
   ],
   "source": [
    "data[\"tweet\"].head(5)"
   ]
  },
  {
   "cell_type": "markdown",
   "metadata": {},
   "source": [
    "convert upper case to lower case"
   ]
  },
  {
   "cell_type": "code",
   "execution_count": 11,
   "metadata": {},
   "outputs": [],
   "source": [
    "data[\"tweet\"] = data[\"tweet\"].apply(lambda x: \" \".join(x.lower() for x in x.split()))"
   ]
  },
  {
   "cell_type": "markdown",
   "metadata": {},
   "source": [
    "remove links"
   ]
  },
  {
   "cell_type": "code",
   "execution_count": 14,
   "metadata": {},
   "outputs": [],
   "source": [
    "\n",
    "data[\"tweet\"] = data['tweet'].apply(lambda x: \" \".join(re.sub(r'^https?:\\/\\/.*[\\r\\n]*', '', x, flags=re.MULTILINE) for x in x.split()))"
   ]
  },
  {
   "cell_type": "markdown",
   "metadata": {},
   "source": [
    "Remove punctuations"
   ]
  },
  {
   "cell_type": "code",
   "execution_count": 15,
   "metadata": {},
   "outputs": [
    {
     "data": {
      "text/plain": [
       "'!\"#$%&\\'()*+,-./:;<=>?@[\\\\]^_`{|}~'"
      ]
     },
     "execution_count": 15,
     "metadata": {},
     "output_type": "execute_result"
    }
   ],
   "source": [
    "string.punctuation"
   ]
  },
  {
   "cell_type": "code",
   "execution_count": 16,
   "metadata": {},
   "outputs": [],
   "source": [
    "def remove_punctuations(text):\n",
    "    for punctuation in string.punctuation:\n",
    "        text = text.replace(punctuation, '')\n",
    "    return text\n",
    "\n",
    "data[\"tweet\"] = data[\"tweet\"].apply(remove_punctuations)"
   ]
  },
  {
   "cell_type": "markdown",
   "metadata": {},
   "source": [
    "remove numbers"
   ]
  },
  {
   "cell_type": "code",
   "execution_count": 17,
   "metadata": {},
   "outputs": [],
   "source": [
    "data[\"tweet\"] = data['tweet'].str.replace('\\d+', '', regex=True)"
   ]
  },
  {
   "cell_type": "markdown",
   "metadata": {},
   "source": [
    "remove stopwords"
   ]
  },
  {
   "cell_type": "code",
   "execution_count": 19,
   "metadata": {},
   "outputs": [
    {
     "name": "stderr",
     "output_type": "stream",
     "text": [
      "[nltk_data] Downloading package stopwords to ../static/model...\n",
      "[nltk_data]   Unzipping corpora\\stopwords.zip.\n"
     ]
    },
    {
     "data": {
      "text/plain": [
       "True"
      ]
     },
     "execution_count": 19,
     "metadata": {},
     "output_type": "execute_result"
    }
   ],
   "source": [
    "nltk.download('stopwords', download_dir='../static/model')"
   ]
  },
  {
   "cell_type": "code",
   "execution_count": 20,
   "metadata": {},
   "outputs": [],
   "source": [
    "with open('../static/model/corpora/stopwords/english', 'r') as file:\n",
    "    sw = file.read().splitlines()"
   ]
  },
  {
   "cell_type": "code",
   "execution_count": 21,
   "metadata": {},
   "outputs": [
    {
     "data": {
      "text/plain": [
       "['i',\n",
       " 'me',\n",
       " 'my',\n",
       " 'myself',\n",
       " 'we',\n",
       " 'our',\n",
       " 'ours',\n",
       " 'ourselves',\n",
       " 'you',\n",
       " \"you're\",\n",
       " \"you've\",\n",
       " \"you'll\",\n",
       " \"you'd\",\n",
       " 'your',\n",
       " 'yours',\n",
       " 'yourself',\n",
       " 'yourselves',\n",
       " 'he',\n",
       " 'him',\n",
       " 'his',\n",
       " 'himself',\n",
       " 'she',\n",
       " \"she's\",\n",
       " 'her',\n",
       " 'hers',\n",
       " 'herself',\n",
       " 'it',\n",
       " \"it's\",\n",
       " 'its',\n",
       " 'itself',\n",
       " 'they',\n",
       " 'them',\n",
       " 'their',\n",
       " 'theirs',\n",
       " 'themselves',\n",
       " 'what',\n",
       " 'which',\n",
       " 'who',\n",
       " 'whom',\n",
       " 'this',\n",
       " 'that',\n",
       " \"that'll\",\n",
       " 'these',\n",
       " 'those',\n",
       " 'am',\n",
       " 'is',\n",
       " 'are',\n",
       " 'was',\n",
       " 'were',\n",
       " 'be',\n",
       " 'been',\n",
       " 'being',\n",
       " 'have',\n",
       " 'has',\n",
       " 'had',\n",
       " 'having',\n",
       " 'do',\n",
       " 'does',\n",
       " 'did',\n",
       " 'doing',\n",
       " 'a',\n",
       " 'an',\n",
       " 'the',\n",
       " 'and',\n",
       " 'but',\n",
       " 'if',\n",
       " 'or',\n",
       " 'because',\n",
       " 'as',\n",
       " 'until',\n",
       " 'while',\n",
       " 'of',\n",
       " 'at',\n",
       " 'by',\n",
       " 'for',\n",
       " 'with',\n",
       " 'about',\n",
       " 'against',\n",
       " 'between',\n",
       " 'into',\n",
       " 'through',\n",
       " 'during',\n",
       " 'before',\n",
       " 'after',\n",
       " 'above',\n",
       " 'below',\n",
       " 'to',\n",
       " 'from',\n",
       " 'up',\n",
       " 'down',\n",
       " 'in',\n",
       " 'out',\n",
       " 'on',\n",
       " 'off',\n",
       " 'over',\n",
       " 'under',\n",
       " 'again',\n",
       " 'further',\n",
       " 'then',\n",
       " 'once',\n",
       " 'here',\n",
       " 'there',\n",
       " 'when',\n",
       " 'where',\n",
       " 'why',\n",
       " 'how',\n",
       " 'all',\n",
       " 'any',\n",
       " 'both',\n",
       " 'each',\n",
       " 'few',\n",
       " 'more',\n",
       " 'most',\n",
       " 'other',\n",
       " 'some',\n",
       " 'such',\n",
       " 'no',\n",
       " 'nor',\n",
       " 'not',\n",
       " 'only',\n",
       " 'own',\n",
       " 'same',\n",
       " 'so',\n",
       " 'than',\n",
       " 'too',\n",
       " 'very',\n",
       " 's',\n",
       " 't',\n",
       " 'can',\n",
       " 'will',\n",
       " 'just',\n",
       " 'don',\n",
       " \"don't\",\n",
       " 'should',\n",
       " \"should've\",\n",
       " 'now',\n",
       " 'd',\n",
       " 'll',\n",
       " 'm',\n",
       " 'o',\n",
       " 're',\n",
       " 've',\n",
       " 'y',\n",
       " 'ain',\n",
       " 'aren',\n",
       " \"aren't\",\n",
       " 'couldn',\n",
       " \"couldn't\",\n",
       " 'didn',\n",
       " \"didn't\",\n",
       " 'doesn',\n",
       " \"doesn't\",\n",
       " 'hadn',\n",
       " \"hadn't\",\n",
       " 'hasn',\n",
       " \"hasn't\",\n",
       " 'haven',\n",
       " \"haven't\",\n",
       " 'isn',\n",
       " \"isn't\",\n",
       " 'ma',\n",
       " 'mightn',\n",
       " \"mightn't\",\n",
       " 'mustn',\n",
       " \"mustn't\",\n",
       " 'needn',\n",
       " \"needn't\",\n",
       " 'shan',\n",
       " \"shan't\",\n",
       " 'shouldn',\n",
       " \"shouldn't\",\n",
       " 'wasn',\n",
       " \"wasn't\",\n",
       " 'weren',\n",
       " \"weren't\",\n",
       " 'won',\n",
       " \"won't\",\n",
       " 'wouldn',\n",
       " \"wouldn't\"]"
      ]
     },
     "execution_count": 21,
     "metadata": {},
     "output_type": "execute_result"
    }
   ],
   "source": [
    "sw"
   ]
  },
  {
   "cell_type": "code",
   "execution_count": 22,
   "metadata": {},
   "outputs": [],
   "source": [
    "data[\"tweet\"] = data[\"tweet\"].apply(lambda x: \" \".join(x for x in x.split() if x not in sw))"
   ]
  },
  {
   "cell_type": "markdown",
   "metadata": {},
   "source": [
    "Stemming"
   ]
  },
  {
   "cell_type": "code",
   "execution_count": 23,
   "metadata": {},
   "outputs": [],
   "source": [
    "from nltk.stem import PorterStemmer\n",
    "ps = PorterStemmer()"
   ]
  },
  {
   "cell_type": "code",
   "execution_count": 24,
   "metadata": {},
   "outputs": [],
   "source": [
    "data[\"tweet\"] = data[\"tweet\"].apply(lambda x: \" \".join(ps.stem(x) for x in x.split()))"
   ]
  },
  {
   "cell_type": "code",
   "execution_count": 25,
   "metadata": {},
   "outputs": [
    {
     "data": {
      "text/plain": [
       "0    fingerprint pregnanc test android app beauti c...\n",
       "1    final transpar silicon case thank uncl yay son...\n",
       "2    love would go talk makememori unplug relax iph...\n",
       "3    im wire know im georg made way iphon cute dave...\n",
       "4    amaz servic appl wont even talk question unles...\n",
       "Name: tweet, dtype: object"
      ]
     },
     "execution_count": 25,
     "metadata": {},
     "output_type": "execute_result"
    }
   ],
   "source": [
    "data[\"tweet\"].head()"
   ]
  },
  {
   "cell_type": "code",
   "execution_count": 26,
   "metadata": {},
   "outputs": [
    {
     "data": {
      "text/html": [
       "<div>\n",
       "<style scoped>\n",
       "    .dataframe tbody tr th:only-of-type {\n",
       "        vertical-align: middle;\n",
       "    }\n",
       "\n",
       "    .dataframe tbody tr th {\n",
       "        vertical-align: top;\n",
       "    }\n",
       "\n",
       "    .dataframe thead th {\n",
       "        text-align: right;\n",
       "    }\n",
       "</style>\n",
       "<table border=\"1\" class=\"dataframe\">\n",
       "  <thead>\n",
       "    <tr style=\"text-align: right;\">\n",
       "      <th></th>\n",
       "      <th>id</th>\n",
       "      <th>label</th>\n",
       "      <th>tweet</th>\n",
       "    </tr>\n",
       "  </thead>\n",
       "  <tbody>\n",
       "    <tr>\n",
       "      <th>0</th>\n",
       "      <td>1</td>\n",
       "      <td>0</td>\n",
       "      <td>fingerprint pregnanc test android app beauti c...</td>\n",
       "    </tr>\n",
       "    <tr>\n",
       "      <th>1</th>\n",
       "      <td>2</td>\n",
       "      <td>0</td>\n",
       "      <td>final transpar silicon case thank uncl yay son...</td>\n",
       "    </tr>\n",
       "    <tr>\n",
       "      <th>2</th>\n",
       "      <td>3</td>\n",
       "      <td>0</td>\n",
       "      <td>love would go talk makememori unplug relax iph...</td>\n",
       "    </tr>\n",
       "    <tr>\n",
       "      <th>3</th>\n",
       "      <td>4</td>\n",
       "      <td>0</td>\n",
       "      <td>im wire know im georg made way iphon cute dave...</td>\n",
       "    </tr>\n",
       "    <tr>\n",
       "      <th>4</th>\n",
       "      <td>5</td>\n",
       "      <td>1</td>\n",
       "      <td>amaz servic appl wont even talk question unles...</td>\n",
       "    </tr>\n",
       "    <tr>\n",
       "      <th>...</th>\n",
       "      <td>...</td>\n",
       "      <td>...</td>\n",
       "      <td>...</td>\n",
       "    </tr>\n",
       "    <tr>\n",
       "      <th>7915</th>\n",
       "      <td>7916</td>\n",
       "      <td>0</td>\n",
       "      <td>live loud lol liveoutloud selfi smile soni mus...</td>\n",
       "    </tr>\n",
       "    <tr>\n",
       "      <th>7916</th>\n",
       "      <td>7917</td>\n",
       "      <td>0</td>\n",
       "      <td>would like wish amaz day make everi minut coun...</td>\n",
       "    </tr>\n",
       "    <tr>\n",
       "      <th>7917</th>\n",
       "      <td>7918</td>\n",
       "      <td>0</td>\n",
       "      <td>help love year old neighbor ipad morn made rea...</td>\n",
       "    </tr>\n",
       "    <tr>\n",
       "      <th>7918</th>\n",
       "      <td>7919</td>\n",
       "      <td>0</td>\n",
       "      <td>final got smart pocket wifi stay connect anyti...</td>\n",
       "    </tr>\n",
       "    <tr>\n",
       "      <th>7919</th>\n",
       "      <td>7920</td>\n",
       "      <td>0</td>\n",
       "      <td>appl barcelona appl store bcn barcelona travel...</td>\n",
       "    </tr>\n",
       "  </tbody>\n",
       "</table>\n",
       "<p>7920 rows × 3 columns</p>\n",
       "</div>"
      ],
      "text/plain": [
       "        id  label                                              tweet\n",
       "0        1      0  fingerprint pregnanc test android app beauti c...\n",
       "1        2      0  final transpar silicon case thank uncl yay son...\n",
       "2        3      0  love would go talk makememori unplug relax iph...\n",
       "3        4      0  im wire know im georg made way iphon cute dave...\n",
       "4        5      1  amaz servic appl wont even talk question unles...\n",
       "...    ...    ...                                                ...\n",
       "7915  7916      0  live loud lol liveoutloud selfi smile soni mus...\n",
       "7916  7917      0  would like wish amaz day make everi minut coun...\n",
       "7917  7918      0  help love year old neighbor ipad morn made rea...\n",
       "7918  7919      0  final got smart pocket wifi stay connect anyti...\n",
       "7919  7920      0  appl barcelona appl store bcn barcelona travel...\n",
       "\n",
       "[7920 rows x 3 columns]"
      ]
     },
     "execution_count": 26,
     "metadata": {},
     "output_type": "execute_result"
    }
   ],
   "source": [
    "data"
   ]
  },
  {
   "cell_type": "markdown",
   "metadata": {},
   "source": [
    "### Building Vacabulary"
   ]
  },
  {
   "cell_type": "code",
   "execution_count": 27,
   "metadata": {},
   "outputs": [],
   "source": [
    "from collections import Counter\n",
    "vocab = Counter()"
   ]
  },
  {
   "cell_type": "code",
   "execution_count": 28,
   "metadata": {},
   "outputs": [
    {
     "data": {
      "text/plain": [
       "Counter()"
      ]
     },
     "execution_count": 28,
     "metadata": {},
     "output_type": "execute_result"
    }
   ],
   "source": [
    "vocab"
   ]
  },
  {
   "cell_type": "code",
   "execution_count": 29,
   "metadata": {},
   "outputs": [],
   "source": [
    "for sentence in data['tweet']:\n",
    "    vocab.update(sentence.split())"
   ]
  },
  {
   "cell_type": "code",
   "execution_count": 35,
   "metadata": {},
   "outputs": [
    {
     "data": {
      "text/plain": [
       "Counter({'fingerprint': 5,\n",
       "         'pregnanc': 1,\n",
       "         'test': 12,\n",
       "         'android': 414,\n",
       "         'app': 416,\n",
       "         'beauti': 322,\n",
       "         'cute': 322,\n",
       "         'health': 120,\n",
       "         'iger': 143,\n",
       "         'iphoneonli': 129,\n",
       "         'iphonesia': 137,\n",
       "         'iphon': 4073,\n",
       "         'final': 192,\n",
       "         'transpar': 5,\n",
       "         'silicon': 5,\n",
       "         'case': 348,\n",
       "         'thank': 263,\n",
       "         'uncl': 4,\n",
       "         'yay': 69,\n",
       "         'soni': 819,\n",
       "         'xperia': 60,\n",
       "         'sonyexperias…': 1,\n",
       "         'love': 499,\n",
       "         'would': 146,\n",
       "         'go': 209,\n",
       "         'talk': 27,\n",
       "         'makememori': 1,\n",
       "         'unplug': 3,\n",
       "         'relax': 41,\n",
       "         'smartphon': 134,\n",
       "         'wifi': 50,\n",
       "         'connect': 27,\n",
       "         'im': 294,\n",
       "         'wire': 8,\n",
       "         'know': 106,\n",
       "         'georg': 1,\n",
       "         'made': 72,\n",
       "         'way': 53,\n",
       "         'daventri': 1,\n",
       "         'home': 143,\n",
       "         'amaz': 178,\n",
       "         'servic': 51,\n",
       "         'appl': 2876,\n",
       "         'wont': 87,\n",
       "         'even': 108,\n",
       "         'question': 14,\n",
       "         'unless': 3,\n",
       "         'pay': 47,\n",
       "         'stupid': 68,\n",
       "         'support': 47,\n",
       "         'softwar': 29,\n",
       "         'updat': 236,\n",
       "         'fuck': 293,\n",
       "         'phone': 1015,\n",
       "         'big': 64,\n",
       "         'time': 248,\n",
       "         'happi': 293,\n",
       "         'us': 80,\n",
       "         'instap': 55,\n",
       "         'instadaili': 66,\n",
       "         'xperiaz': 23,\n",
       "         'new': 1137,\n",
       "         'type': 19,\n",
       "         'c': 28,\n",
       "         'charger': 128,\n",
       "         'cabl': 40,\n",
       "         'uk': 25,\n",
       "         '…': 751,\n",
       "         'bay': 3,\n",
       "         'amazon': 61,\n",
       "         'etsi': 6,\n",
       "         'year': 141,\n",
       "         'rob': 2,\n",
       "         'cross': 7,\n",
       "         'tobi': 3,\n",
       "         'young': 6,\n",
       "         'evemun': 1,\n",
       "         'mcmafia': 1,\n",
       "         'taylor': 4,\n",
       "         'spectr': 1,\n",
       "         'newyear': 51,\n",
       "         'start': 68,\n",
       "         'recip': 6,\n",
       "         'technolog': 88,\n",
       "         'samsunggalaxi': 33,\n",
       "         'iphonex': 199,\n",
       "         'pictwittercompjiwqwtc': 1,\n",
       "         'bout': 5,\n",
       "         'shop': 115,\n",
       "         'listen': 45,\n",
       "         'music': 263,\n",
       "         'justm': 4,\n",
       "         'likeforlik': 20,\n",
       "         'followforfollow…': 2,\n",
       "         'photo': 394,\n",
       "         'fun': 277,\n",
       "         'selfi': 164,\n",
       "         'pool': 8,\n",
       "         'water': 30,\n",
       "         'camera': 139,\n",
       "         'picoftheday': 117,\n",
       "         'sun': 67,\n",
       "         'instagood': 226,\n",
       "         'boy': 77,\n",
       "         'outdoor': 16,\n",
       "         'hey': 73,\n",
       "         'make': 247,\n",
       "         'ipod': 211,\n",
       "         'dont': 168,\n",
       "         'color': 125,\n",
       "         'inch': 23,\n",
       "         'thinner': 3,\n",
       "         'crash': 37,\n",
       "         'everi': 127,\n",
       "         'five': 7,\n",
       "         'fuckin': 5,\n",
       "         'minit': 1,\n",
       "         'ha': 7,\n",
       "         'heavi': 3,\n",
       "         'machineri': 1,\n",
       "         'need': 138,\n",
       "         'realli': 83,\n",
       "         'drop': 34,\n",
       "         'ball': 11,\n",
       "         'design': 64,\n",
       "         'drinkyourhaterad': 1,\n",
       "         'contempl': 2,\n",
       "         'give': 76,\n",
       "         'bandwagon': 1,\n",
       "         'simpli': 5,\n",
       "         'cellcom': 1,\n",
       "         'depress': 5,\n",
       "         'idontwantto': 1,\n",
       "         'anoth': 71,\n",
       "         'crazi': 41,\n",
       "         'purchas': 24,\n",
       "         'lol': 215,\n",
       "         'theori': 1,\n",
       "         'work': 306,\n",
       "         'hard': 49,\n",
       "         'play': 77,\n",
       "         'ipad': 537,\n",
       "         'shaqlockholm': 1,\n",
       "         'samlouis': 1,\n",
       "         'batteri': 80,\n",
       "         'pain': 9,\n",
       "         'charg': 81,\n",
       "         'overnight': 2,\n",
       "         'lunchtim': 1,\n",
       "         'dead': 20,\n",
       "         'hateorang': 2,\n",
       "         'deepellum': 1,\n",
       "         'toward': 3,\n",
       "         'downtown': 5,\n",
       "         'dalla': 1,\n",
       "         'bigd': 1,\n",
       "         'saturday': 40,\n",
       "         'rxm': 1,\n",
       "         'summer': 119,\n",
       "         'urban': 8,\n",
       "         'like': 455,\n",
       "         'share': 53,\n",
       "         'want': 165,\n",
       "         '…pictwittercomgfknyecj': 1,\n",
       "         'instagram': 358,\n",
       "         'photooftheday': 191,\n",
       "         'tweegram': 50,\n",
       "         'reason': 41,\n",
       "         'one': 221,\n",
       "         'suck': 125,\n",
       "         'truth': 20,\n",
       "         'truthbetold': 1,\n",
       "         'agre': 13,\n",
       "         'fact': 22,\n",
       "         'realitycheck': 2,\n",
       "         'blackberrypictwittercomzpggdcazn': 1,\n",
       "         'store': 91,\n",
       "         'gunna': 3,\n",
       "         'screen': 102,\n",
       "         'monday': 36,\n",
       "         'ur': 20,\n",
       "         'fuckingpiss': 1,\n",
       "         'art': 132,\n",
       "         'easter': 12,\n",
       "         'dear': 48,\n",
       "         'friend': 191,\n",
       "         'publish': 1,\n",
       "         'channel': 4,\n",
       "         'face': 51,\n",
       "         'bunni': 7,\n",
       "         'email': 30,\n",
       "         'png': 1,\n",
       "         'thumbnail': 1,\n",
       "         'mutitaedibleartgmailcompictwittercomjhwphfbgt': 1,\n",
       "         'excus': 5,\n",
       "         'waiter': 1,\n",
       "         'seem': 15,\n",
       "         'pie': 24,\n",
       "         'soup': 6,\n",
       "         'wife': 14,\n",
       "         'bake': 5,\n",
       "         'ive': 83,\n",
       "         'four': 7,\n",
       "         'day': 426,\n",
       "         'button': 29,\n",
       "         'back': 294,\n",
       "         'broke': 29,\n",
       "         'accident': 5,\n",
       "         'hit': 12,\n",
       "         'goe': 22,\n",
       "         'complet': 34,\n",
       "         'black': 90,\n",
       "         'keep': 85,\n",
       "         'get': 382,\n",
       "         'text': 68,\n",
       "         'cant': 180,\n",
       "         'check': 66,\n",
       "         'thiphon': 1,\n",
       "         'wallpap': 24,\n",
       "         'wall': 17,\n",
       "         'galaxi': 361,\n",
       "         'samsung': 1395,\n",
       "         'billion': 2,\n",
       "         'patent': 18,\n",
       "         'prior': 1,\n",
       "         'million': 13,\n",
       "         'troll': 6,\n",
       "         'parti': 48,\n",
       "         'mess': 19,\n",
       "         'havent': 19,\n",
       "         'done': 38,\n",
       "         'noth': 35,\n",
       "         'myloss': 1,\n",
       "         'touch': 19,\n",
       "         'frozen': 5,\n",
       "         'logo': 8,\n",
       "         'lose': 21,\n",
       "         'demi': 2,\n",
       "         'pic': 70,\n",
       "         'kill': 23,\n",
       "         'someon': 32,\n",
       "         'soangri': 2,\n",
       "         'hateappl': 49,\n",
       "         'flower': 55,\n",
       "         'green': 53,\n",
       "         'diamond': 7,\n",
       "         'pearl': 4,\n",
       "         'case…': 3,\n",
       "         'must': 168,\n",
       "         'watch': 81,\n",
       "         'youtub': 62,\n",
       "         'subscrib': 14,\n",
       "         'daili': 17,\n",
       "         'vlog': 17,\n",
       "         'twitch': 50,\n",
       "         'game': 282,\n",
       "         'ps': 198,\n",
       "         'xbox': 29,\n",
       "         'io': 382,\n",
       "         'live': 124,\n",
       "         'laugh': 59,\n",
       "         'life': 415,\n",
       "         'food': 64,\n",
       "         'philippin': 3,\n",
       "         'instago': 32,\n",
       "         'instahub': 24,\n",
       "         'instagram…': 12,\n",
       "         'ch': 2,\n",
       "         'cannon': 1,\n",
       "         'suewe': 2,\n",
       "         'friendship': 12,\n",
       "         'americanbulli': 2,\n",
       "         'dog': 71,\n",
       "         'piggi': 1,\n",
       "         'famili': 139,\n",
       "         'southerncharm': 1,\n",
       "         'americanidol': 1,\n",
       "         'goal': 15,\n",
       "         'bestfriend': 27,\n",
       "         'pitbul': 6,\n",
       "         'onelov': 4,\n",
       "         'countri': 9,\n",
       "         'muscl': 4,\n",
       "         'nfl': 3,\n",
       "         'worldwid': 3,\n",
       "         'america': 14,\n",
       "         'bigboy': 3,\n",
       "         'thislif': 1,\n",
       "         'tmz': 3,\n",
       "         'wild': 10,\n",
       "         'hoggpictwittercommnogp': 1,\n",
       "         'mimmoal': 6,\n",
       "         'feb': 4,\n",
       "         'taken': 34,\n",
       "         'rx': 6,\n",
       "         'direzionevertical': 1,\n",
       "         'sunset': 61,\n",
       "         'sky': 56,\n",
       "         '…pictwittercomcxifijjg': 1,\n",
       "         'sister': 33,\n",
       "         'bought': 57,\n",
       "         'earli': 34,\n",
       "         'bday': 14,\n",
       "         'gift': 163,\n",
       "         'receiv': 22,\n",
       "         'note': 166,\n",
       "         'mani': 34,\n",
       "         'cottd': 1,\n",
       "         'nswrl': 1,\n",
       "         'market': 31,\n",
       "         'pipelin': 1,\n",
       "         'delet': 93,\n",
       "         'individu': 2,\n",
       "         'song': 60,\n",
       "         'itun': 212,\n",
       "         'everybodi': 9,\n",
       "         'freak': 19,\n",
       "         'duuud': 1,\n",
       "         'window': 104,\n",
       "         'advanc': 11,\n",
       "         'custom': 77,\n",
       "         'stand': 17,\n",
       "         'sirriious': 1,\n",
       "         'bad': 36,\n",
       "         'cheap': 11,\n",
       "         're': 1,\n",
       "         'tech': 205,\n",
       "         'bull': 14,\n",
       "         'instas': 6,\n",
       "         'leg': 6,\n",
       "         'lightskin': 1,\n",
       "         'curlyhair': 1,\n",
       "         'bellypierc': 1,\n",
       "         'smile': 231,\n",
       "         'potd…': 1,\n",
       "         'din’t': 1,\n",
       "         'creat': 16,\n",
       "         'don’t': 9,\n",
       "         'let': 73,\n",
       "         'destroy': 7,\n",
       "         'candid': 5,\n",
       "         'sunday': 57,\n",
       "         'sundayvib': 3,\n",
       "         'alway': 63,\n",
       "         'eye': 25,\n",
       "         'ootd': 21,\n",
       "         'fashion': 215,\n",
       "         'blackandwhit': 23,\n",
       "         'poser': 4,\n",
       "         'attitud': 1,\n",
       "         'lifeisgood': 1,\n",
       "         'mylook': 1,\n",
       "         'mylif': 6,\n",
       "         'photoeveryday': 1,\n",
       "         'lookoftheday': 4,\n",
       "         'latepost': 4,\n",
       "         'mylifepictwittercommmhcqyadb': 1,\n",
       "         'film': 25,\n",
       "         'set': 31,\n",
       "         'build': 7,\n",
       "         'timelaps': 5,\n",
       "         'video': 81,\n",
       "         'produc': 15,\n",
       "         'videoproduct': 5,\n",
       "         'follow': 885,\n",
       "         'commerci': 9,\n",
       "         'actor': 8,\n",
       "         'actress': 6,\n",
       "         'hollywood': 4,\n",
       "         'losangel': 7,\n",
       "         'movi': 38,\n",
       "         'act': 11,\n",
       "         'startup': 9,\n",
       "         'startupvideo': 2,\n",
       "         'shotoniphonpictwittercomeceiain': 1,\n",
       "         'cupcak': 7,\n",
       "         'pink': 86,\n",
       "         'sweet': 85,\n",
       "         'cherri': 5,\n",
       "         'eeeeee': 1,\n",
       "         'sexi': 94,\n",
       "         'ladi': 14,\n",
       "         'acquisto': 1,\n",
       "         'del': 1,\n",
       "         'week': 69,\n",
       "         'end': 31,\n",
       "         'iphoneplu': 49,\n",
       "         'gril': 3,\n",
       "         'moment': 50,\n",
       "         'italy…': 2,\n",
       "         'majest': 2,\n",
       "         'see': 70,\n",
       "         'differ': 24,\n",
       "         'photographi': 292,\n",
       "         'natur': 107,\n",
       "         'landscap': 16,\n",
       "         'forest': 3,\n",
       "         'hidden': 2,\n",
       "         'clear': 9,\n",
       "         'view': 13,\n",
       "         'wood': 4,\n",
       "         'tree': 35,\n",
       "         'travel': 81,\n",
       "         'biker': 1,\n",
       "         'ziess': 1,\n",
       "         'instgramhub': 1,\n",
       "         'googl': 76,\n",
       "         'cut': 18,\n",
       "         'program': 15,\n",
       "         'ahhhh': 3,\n",
       "         'look': 171,\n",
       "         'got': 280,\n",
       "         'christma': 124,\n",
       "         'girl': 220,\n",
       "         'instacool': 23,\n",
       "         'followforfollow': 5,\n",
       "         'likeshttpfbmetnxfdk': 1,\n",
       "         'bitcoinboy': 1,\n",
       "         'free': 149,\n",
       "         'kansa': 2,\n",
       "         'georgia': 3,\n",
       "         'ogochocinco': 1,\n",
       "         'antoin': 3,\n",
       "         'ent': 1,\n",
       "         'appstor': 63,\n",
       "         'joy': 40,\n",
       "         'peac': 35,\n",
       "         'reflect': 12,\n",
       "         'rememb': 12,\n",
       "         'cloud': 30,\n",
       "         'cloudhub': 5,\n",
       "         'skyhub': 5,\n",
       "         'gr': 11,\n",
       "         'iphone…': 86,\n",
       "         'babi': 148,\n",
       "         'babyboy': 2,\n",
       "         'muesli': 2,\n",
       "         'hedgehog': 1,\n",
       "         'pet': 26,\n",
       "         'inbox': 3,\n",
       "         'letter': 8,\n",
       "         'editor': 2,\n",
       "         'news': 265,\n",
       "         'fail': 169,\n",
       "         'funni': 223,\n",
       "         'lolpictwittercomikrhumovz': 1,\n",
       "         'zsofimonst': 1,\n",
       "         'faster': 4,\n",
       "         'hate': 155,\n",
       "         'ye…': 1,\n",
       "         'jamesdawut': 1,\n",
       "         'tablet': 61,\n",
       "         'person': 22,\n",
       "         'use': 174,\n",
       "         'sens': 4,\n",
       "         'fan': 34,\n",
       "         'think': 80,\n",
       "         'quit': 10,\n",
       "         'gd': 4,\n",
       "         'product': 117,\n",
       "         'friday': 63,\n",
       "         'call': 50,\n",
       "         '‘black': 1,\n",
       "         'friday’httpswwwbostoncomnewsbusinesswhyisblackfridaycalledblackfriday': 1,\n",
       "         'blackfridayd': 1,\n",
       "         'blackfriday': 17,\n",
       "         'holiday': 56,\n",
       "         'newyork': 24,\n",
       "         'busi': 42,\n",
       "         'crowd': 3,\n",
       "         'money': 103,\n",
       "         'birthday': 206,\n",
       "         'tv': 73,\n",
       "         'comput': 89,\n",
       "         'lifehack': 1,\n",
       "         'school': 29,\n",
       "         'serious': 39,\n",
       "         'afraid': 1,\n",
       "         'profit': 5,\n",
       "         'else’': 1,\n",
       "         'pocket': 9,\n",
       "         '“aren’t': 1,\n",
       "         'supported”': 1,\n",
       "         'po': 8,\n",
       "         'month': 55,\n",
       "         'good': 180,\n",
       "         'job': 75,\n",
       "         'actual': 34,\n",
       "         '£': 23,\n",
       "         'replac': 39,\n",
       "         'that': 45,\n",
       "         'still': 112,\n",
       "         'basic': 6,\n",
       "         'rt': 525,\n",
       "         'sloanlovescudi': 1,\n",
       "         'droid': 14,\n",
       "         'waitwhat': 1,\n",
       "         'doubl': 8,\n",
       "         'saw': 7,\n",
       "         'alyssa': 1,\n",
       "         'h': 9,\n",
       "         'cool': 134,\n",
       "         'pictur': 82,\n",
       "         'l': 12,\n",
       "         'cycl': 2,\n",
       "         'froot': 1,\n",
       "         'run': 44,\n",
       "         'beach': 50,\n",
       "         'sport': 23,\n",
       "         'tysonj': 1,\n",
       "         'bit': 21,\n",
       "         'hypocrit': 4,\n",
       "         'hashtag': 20,\n",
       "         'yet': 36,\n",
       "         'quiver': 1,\n",
       "         'anticip': 1,\n",
       "         'arriv': 47,\n",
       "         'gain': 311,\n",
       "         'everyon': 189,\n",
       "         'sougofollow': 165,\n",
       "         'ff': 102,\n",
       "         'isi': 1,\n",
       "         'geometri': 1,\n",
       "         'iphoneographi': 52,\n",
       "         'streetphotographi': 10,\n",
       "         'iphonephotographi': 14,\n",
       "         'mobilephotographi': 5,\n",
       "         'mobil': 111,\n",
       "         'bright': 16,\n",
       "         'user': 46,\n",
       "         'fettish': 1,\n",
       "         'techno': 2,\n",
       "         'indi': 2,\n",
       "         'date': 63,\n",
       "         'okcupid': 1,\n",
       "         'less': 25,\n",
       "         'random': 41,\n",
       "         'instamood': 90,\n",
       "         'loljk': 2,\n",
       "         'shine': 10,\n",
       "         'wine': 11,\n",
       "         'amaliexmaria': 1,\n",
       "         'copenhagen': 5,\n",
       "         'creativ': 19,\n",
       "         'compos': 5,\n",
       "         'denmark': 7,\n",
       "         'hot': 55,\n",
       "         'icon': 12,\n",
       "         'keepthefaith': 5,\n",
       "         'mariajensen': 5,\n",
       "         'origin': 16,\n",
       "         'pop': 27,\n",
       "         'red': 69,\n",
       "         'rock': 23,\n",
       "         'soul': 16,\n",
       "         'singer': 14,\n",
       "         'songwrit': 7,\n",
       "         'univers': 15,\n",
       "         'warnerpictwittercomgbeusyedm': 1,\n",
       "         'tescophoneshop': 1,\n",
       "         'wed': 28,\n",
       "         'dvd': 6,\n",
       "         'thought': 21,\n",
       "         'id': 42,\n",
       "         'lost': 56,\n",
       "         'meliiecandi': 1,\n",
       "         'ipadmini': 20,\n",
       "         'sold': 9,\n",
       "         'instamo': 9,\n",
       "         'planeteig': 1,\n",
       "         'feel': 71,\n",
       "         'broken': 38,\n",
       "         'pictwittercomygsukec': 1,\n",
       "         'light': 43,\n",
       "         'pleas': 48,\n",
       "         'lamp': 2,\n",
       "         'pekanbaru': 1,\n",
       "         'riau': 1,\n",
       "         'indonesia': 18,\n",
       "         'sonya…': 2,\n",
       "         'acquisit': 2,\n",
       "         'gold': 52,\n",
       "         'brussel': 3,\n",
       "         'potd': 11,\n",
       "         'picoftheday…': 4,\n",
       "         'reset': 17,\n",
       "         'sorri': 18,\n",
       "         'incept': 1,\n",
       "         'white': 115,\n",
       "         'tea': 12,\n",
       "         'chill': 32,\n",
       "         'carcasa': 1,\n",
       "         'cover': 71,\n",
       "         'para': 1,\n",
       "         'grandprim': 1,\n",
       "         'felizdomingo': 1,\n",
       "         'g': 52,\n",
       "         'felizlun': 1,\n",
       "         'felizsemana': 1,\n",
       "         'oct': 2,\n",
       "         'felizmartespictwittercomxtldsjwpz': 1,\n",
       "         'mighti': 3,\n",
       "         'mous': 9,\n",
       "         'came': 44,\n",
       "         'lithium': 2,\n",
       "         'aa': 5,\n",
       "         'magic': 20,\n",
       "         'come': 105,\n",
       "         'alkalin': 1,\n",
       "         'nyclesbian': 1,\n",
       "         'followsunday': 30,\n",
       "         'followback': 54,\n",
       "         'teamfollowback': 32,\n",
       "         'retweet': 90,\n",
       "         'ya': 46,\n",
       "         'thing': 116,\n",
       "         'i’m': 14,\n",
       "         'samsunguk': 5,\n",
       "         'i’v': 4,\n",
       "         'tumbl': 1,\n",
       "         'dryer': 1,\n",
       "         'it’': 19,\n",
       "         'alreadi': 41,\n",
       "         'problem': 45,\n",
       "         'occur': 2,\n",
       "         'iwant': 2,\n",
       "         'issu': 18,\n",
       "         'resolv': 1,\n",
       "         'abl': 16,\n",
       "         'return': 7,\n",
       "         'alexandraeton': 1,\n",
       "         'bbcwatchdog': 1,\n",
       "         'lilya': 1,\n",
       "         'asll': 1,\n",
       "         'sonya': 13,\n",
       "         'throwback': 2,\n",
       "         'shoot': 24,\n",
       "         'bluri': 1,\n",
       "         '…pictwittercombtewbkx': 1,\n",
       "         'cnet': 2,\n",
       "         'put': 53,\n",
       "         'absurd': 2,\n",
       "         'price': 23,\n",
       "         'devic': 42,\n",
       "         'commonwealth': 2,\n",
       "         'skye': 1,\n",
       "         'nicolson': 1,\n",
       "         'win': 43,\n",
       "         'box': 18,\n",
       "         'memori': 25,\n",
       "         'brother': 26,\n",
       "         '–': 24,\n",
       "         'adapt': 8,\n",
       "         'galatasaray': 1,\n",
       "         'iherbord': 1,\n",
       "         'presidenttrump': 1,\n",
       "         'oh': 54,\n",
       "         'comment': 8,\n",
       "         'lip': 12,\n",
       "         'getalif': 1,\n",
       "         'tecshit': 1,\n",
       "         'enjoy': 47,\n",
       "         'tombraid': 1,\n",
       "         'laracroft': 1,\n",
       "         'playstat': 76,\n",
       "         'gamer': 54,\n",
       "         'hunger': 3,\n",
       "         'simpson': 3,\n",
       "         'thehungergam': 1,\n",
       "         'someth': 32,\n",
       "         'wrong': 19,\n",
       "         'right': 80,\n",
       "         'today': 309,\n",
       "         'item': 7,\n",
       "         'jammieexoxo': 1,\n",
       "         'recommend': 5,\n",
       "         'earphon': 16,\n",
       "         'earpod': 6,\n",
       "         'lifestyl': 24,\n",
       "         'amazing…': 5,\n",
       "         'fuckyou': 75,\n",
       "         'never': 81,\n",
       "         'bug': 18,\n",
       "         'buck': 6,\n",
       "         'phonehow': 1,\n",
       "         'littl': 46,\n",
       "         'qualiti': 14,\n",
       "         'hereanotherangrycustom': 1,\n",
       "         'girlfriend': 12,\n",
       "         'gf': 3,\n",
       "         'bf': 7,\n",
       "         'card': 27,\n",
       "         'z': 28,\n",
       "         'soppi': 1,\n",
       "         'present': 68,\n",
       "         'mom': 36,\n",
       "         'macbookpro': 50,\n",
       "         'macbook': 105,\n",
       "         'stockholm': 3,\n",
       "         'sweden': 10,\n",
       "         'quot': 65,\n",
       "         'wisdom': 9,\n",
       "         'word': 44,\n",
       "         'tweetgram': 11,\n",
       "         'applaud': 1,\n",
       "         'sheffield': 1,\n",
       "         'great': 98,\n",
       "         'repair': 21,\n",
       "         'hour': 113,\n",
       "         'everyth': 75,\n",
       "         'due': 9,\n",
       "         'recoveri': 7,\n",
       "         'mode': 14,\n",
       "         'mashabl': 7,\n",
       "         'hater': 3,\n",
       "         'yousuck': 10,\n",
       "         'briantong': 1,\n",
       "         'easytotalk': 1,\n",
       "         'producesometh': 1,\n",
       "         'usa': 42,\n",
       "         'compani': 38,\n",
       "         'korean': 2,\n",
       "         'loser': 4,\n",
       "         'server': 5,\n",
       "         'dumb': 10,\n",
       "         'schedul': 3,\n",
       "         'mainten': 2,\n",
       "         'model': 40,\n",
       "         'byhilalak': 1,\n",
       "         'urbanear': 1,\n",
       "         'handmad': 7,\n",
       "         'hayatinarenkkat': 1,\n",
       "         'vicio': 3,\n",
       "         'nellyfurtado': 1,\n",
       "         'nelstar': 1,\n",
       "         'playingnow': 1,\n",
       "         'diva': 4,\n",
       "         'cd': 13,\n",
       "         'featur': 32,\n",
       "         'didnt': 47,\n",
       "         'yourtechcompani': 2,\n",
       "         'pictwittercomhsizay': 1,\n",
       "         'yey': 7,\n",
       "         'sonyxperiaz': 4,\n",
       "         'blessed…': 2,\n",
       "         'feliz': 4,\n",
       "         'sábado': 1,\n",
       "         'con': 9,\n",
       "         'café': 2,\n",
       "         'coffe': 37,\n",
       "         'pantri': 2,\n",
       "         'dreami': 1,\n",
       "         'effect': 12,\n",
       "         'straight': 4,\n",
       "         'impress': 10,\n",
       "         'spring': 33,\n",
       "         'blossom…': 1,\n",
       "         'finalllllli': 1,\n",
       "         'galaxynot': 32,\n",
       "         'awsom': 5,\n",
       "         'beamman': 1,\n",
       "         'best…': 1,\n",
       "         'special': 17,\n",
       "         'valentin': 52,\n",
       "         'nowplay': 13,\n",
       "         'daughter': 26,\n",
       "         'poem': 19,\n",
       "         'αγάπη': 3,\n",
       "         'eri': 6,\n",
       "         'pa': 5,\n",
       "         'car': 42,\n",
       "         'sign': 13,\n",
       "         'ilovey': 3,\n",
       "         'lunch': 11,\n",
       "         'park': 14,\n",
       "         'carrot': 6,\n",
       "         'banana': 16,\n",
       "         'autumn': 11,\n",
       "         'leaves…': 1,\n",
       "         'iphoneth': 2,\n",
       "         'confess': 3,\n",
       "         'spend': 16,\n",
       "         'faith': 9,\n",
       "         'sin': 2,\n",
       "         'much': 109,\n",
       "         'book': 62,\n",
       "         'flickr': 1,\n",
       "         'say': 109,\n",
       "         'u': 113,\n",
       "         'updateit': 2,\n",
       "         'took': 42,\n",
       "         'download': 101,\n",
       "         'westcoast': 1,\n",
       "         'huntington': 1,\n",
       "         'ad': 27,\n",
       "         'twitter': 86,\n",
       "         'directori': 1,\n",
       "         'newyorkni': 1,\n",
       "         'educ': 13,\n",
       "         'losin': 1,\n",
       "         'recept': 4,\n",
       "         'n': 19,\n",
       "         'miss': 52,\n",
       "         'last': 89,\n",
       "         'min': 19,\n",
       "         'tmobil': 20,\n",
       "         'jump': 9,\n",
       "         'rid': 14,\n",
       "         'absolut': 12,\n",
       "         'tast': 3,\n",
       "         'frank': 4,\n",
       "         'ocean’': 1,\n",
       "         'new…': 4,\n",
       "         'annoy': 38,\n",
       "         'finish': 7,\n",
       "         'level': 14,\n",
       "         'where': 3,\n",
       "         'buy': 124,\n",
       "         'full': 23,\n",
       "         'version': 27,\n",
       "         'wear': 5,\n",
       "         'import': 11,\n",
       "         'mood': 17,\n",
       "         'boss': 10,\n",
       "         'blog': 43,\n",
       "         'style': 93,\n",
       "         'wcw': 2,\n",
       "         'wce': 1,\n",
       "         'bestoftheday': 23,\n",
       "         'pretti': 72,\n",
       "         'babe': 14,\n",
       "         'wednesday': 8,\n",
       "         'funpictwittercomggnuvxbv': 1,\n",
       "         'natepgilbraith': 1,\n",
       "         'send': 33,\n",
       "         'turn': 43,\n",
       "         'imessag': 37,\n",
       "         'fanta': 3,\n",
       "         'delish': 1,\n",
       "         'sundayfunday': 3,\n",
       "         'heal': 1,\n",
       "         'so…': 1,\n",
       "         'sleep': 34,\n",
       "         'lap': 3,\n",
       "         'babygirl': 3,\n",
       "         'popular': 27,\n",
       "         'she’': 2,\n",
       "         'loverli': 1,\n",
       "         'tweet': 43,\n",
       "         'rabbitsofinstagram': 4,\n",
       "         'bunniesofinstagram': 4,\n",
       "         'rabbit': 6,\n",
       "         'hop': 8,\n",
       "         'bounc': 5,\n",
       "         'charli': 6,\n",
       "         'houserabbit': 4,\n",
       "         'bunnylov': 4,\n",
       "         'rabbitsofig': 4,\n",
       "         'shotoniphon': 23,\n",
       "         'photograph': 38,\n",
       "         'chuck': 6,\n",
       "         'charl': 2,\n",
       "         'pictwittercomgpwnfuzwh': 1,\n",
       "         'lucien': 1,\n",
       "         'swarovski': 2,\n",
       "         'crystal': 3,\n",
       "         'vegan': 7,\n",
       "         'glutenfre': 3,\n",
       "         'silli': 9,\n",
       "         'sally’': 1,\n",
       "         'diner': 3,\n",
       "         'sync': 36,\n",
       "         'hear': 9,\n",
       "         'second': 19,\n",
       "         'mmlp': 1,\n",
       "         'fml': 18,\n",
       "         'candi': 12,\n",
       "         'beati': 3,\n",
       "         'nice': 87,\n",
       "         'fo': 2,\n",
       "         'wait': 94,\n",
       "         'hand': 24,\n",
       "         'spacegray': 4,\n",
       "         'gb': 54,\n",
       "         'pictwittercomogogkeopw': 1,\n",
       "         'unpack': 1,\n",
       "         'compact': 2,\n",
       "         'first': 81,\n",
       "         'pictwittercomblobosu': 1,\n",
       "         'muoneoz': 2,\n",
       "         'progress': 6,\n",
       "         'bar': 13,\n",
       "         'key': 13,\n",
       "         'long': 34,\n",
       "         'cold': 14,\n",
       "         'boot': 11,\n",
       "         'fear': 4,\n",
       "         'itll': 5,\n",
       "         'siri': 45,\n",
       "         'doesnt': 69,\n",
       "         'understand': 4,\n",
       "         'command': 1,\n",
       "         'nephew': 5,\n",
       "         'allshot': 3,\n",
       "         'endless': 3,\n",
       "         'photoofthaday': 1,\n",
       "         'liter': 21,\n",
       "         'cri': 14,\n",
       "         'contact': 37,\n",
       "         'andyvaughan': 1,\n",
       "         'wonder': 29,\n",
       "         'avail': 42,\n",
       "         'b': 26,\n",
       "         'compar': 8,\n",
       "         '¡al': 1,\n",
       "         'fiiiiin': 1,\n",
       "         'laptop': 102,\n",
       "         'vaio': 17,\n",
       "         'minni': 2,\n",
       "         'inlove…': 1,\n",
       "         'blackberri': 58,\n",
       "         'occasion': 1,\n",
       "         'best': 136,\n",
       "         'fruit': 29,\n",
       "         'fall': 19,\n",
       "         'worri': 6,\n",
       "         'thou': 1,\n",
       "         'soon': 34,\n",
       "         'username：splinkio': 1,\n",
       "         'thai': 3,\n",
       "         'curri': 1,\n",
       "         'yum': 15,\n",
       "         'picoft': 1,\n",
       "         'yosemit': 7,\n",
       "         'steep': 1,\n",
       "         'hill': 5,\n",
       "         'climb': 3,\n",
       "         'mac': 164,\n",
       "         'kernel': 2,\n",
       "         'serv': 8,\n",
       "         'wellappl': 1,\n",
       "         'warn': 9,\n",
       "         'display': 14,\n",
       "         'upon': 4,\n",
       "         'brbrrylov': 1,\n",
       "         'shesh': 1,\n",
       "         'told': 13,\n",
       "         'stop': 46,\n",
       "         'mojo': 1,\n",
       "         'p': 38,\n",
       "         'three': 13,\n",
       "         'ship': 20,\n",
       "         'advertis': 10,\n",
       "         'gear': 25,\n",
       "         'vr': 8,\n",
       "         'well': 72,\n",
       "         'past': 19,\n",
       "         'sodepress': 1,\n",
       "         'samsunggalaxyftw': 1,\n",
       "         'jewish': 3,\n",
       "         'american': 7,\n",
       "         'singl': 31,\n",
       "         'paid': 7,\n",
       "         'membership': 1,\n",
       "         'capetownsup': 53,\n",
       "         'sup': 53,\n",
       "         'surf': 55,\n",
       "         'capetown': 58,\n",
       "         'pictwittercomozdxt': 1,\n",
       "         'pro': 46,\n",
       "         'trial': 6,\n",
       "         'aarrrggghhhh': 1,\n",
       "         'makingmylifesodifficultpictwittercomlzszgisb': 1,\n",
       "         'half': 19,\n",
       "         'el': 3,\n",
       "         'capitan': 1,\n",
       "         'mistak': 8,\n",
       "         'usefuckingtorr': 1,\n",
       "         'hooray': 1,\n",
       "         'stuff': 35,\n",
       "         'excit': 98,\n",
       "         'open': 20,\n",
       "         'now…': 3,\n",
       "         'mine': 53,\n",
       "         'spaz': 1,\n",
       "         'short': 5,\n",
       "         'constantli': 5,\n",
       "         'piss': 40,\n",
       "         'offici': 18,\n",
       "         'keyboard': 22,\n",
       "         'okay': 14,\n",
       "         'though': 23,\n",
       "         'deepeshalway': 1,\n",
       "         'ndtvgadget': 1,\n",
       "         'enough': 36,\n",
       "         'challeng': 4,\n",
       "         'juri': 3,\n",
       "         'decis': 8,\n",
       "         'simpl': 19,\n",
       "         'an': 1,\n",
       "         ...})"
      ]
     },
     "execution_count": 35,
     "metadata": {},
     "output_type": "execute_result"
    }
   ],
   "source": [
    "vocab"
   ]
  },
  {
   "cell_type": "code",
   "execution_count": 30,
   "metadata": {},
   "outputs": [
    {
     "data": {
      "text/plain": [
       "15949"
      ]
     },
     "execution_count": 30,
     "metadata": {},
     "output_type": "execute_result"
    }
   ],
   "source": [
    "len(vocab)"
   ]
  },
  {
   "cell_type": "code",
   "execution_count": 31,
   "metadata": {},
   "outputs": [
    {
     "data": {
      "text/plain": [
       "(7920, 3)"
      ]
     },
     "execution_count": 31,
     "metadata": {},
     "output_type": "execute_result"
    }
   ],
   "source": [
    "data.shape"
   ]
  },
  {
   "cell_type": "code",
   "execution_count": 32,
   "metadata": {},
   "outputs": [],
   "source": [
    "#feature selction to reduce the list\n",
    "tokens = [key for key in vocab if vocab[key] > 10]"
   ]
  },
  {
   "cell_type": "code",
   "execution_count": 36,
   "metadata": {},
   "outputs": [
    {
     "data": {
      "text/plain": [
       "1145"
      ]
     },
     "execution_count": 36,
     "metadata": {},
     "output_type": "execute_result"
    }
   ],
   "source": [
    "len(tokens)"
   ]
  },
  {
   "cell_type": "code",
   "execution_count": 34,
   "metadata": {},
   "outputs": [],
   "source": [
    "#to save the selected token in a vocabulary\n",
    "def save_vocabulary(lines, filename):\n",
    "    data = '\\n'.join(lines)\n",
    "    file = open(filename, 'w', encoding=\"utf-8\")\n",
    "    file.write(data)\n",
    "    file.close()\n",
    "\n",
    "save_vocabulary(tokens, '../static/model/vocabulary.txt')"
   ]
  },
  {
   "cell_type": "markdown",
   "metadata": {},
   "source": [
    "Divide dataset"
   ]
  },
  {
   "cell_type": "code",
   "execution_count": 37,
   "metadata": {},
   "outputs": [],
   "source": [
    "X = data['tweet']\n",
    "y = data['label']"
   ]
  },
  {
   "cell_type": "code",
   "execution_count": 38,
   "metadata": {},
   "outputs": [],
   "source": [
    "from sklearn.model_selection import train_test_split\n",
    "X_train, X_test, y_train, y_test = train_test_split(X, y, test_size=0.2)"
   ]
  },
  {
   "cell_type": "markdown",
   "metadata": {},
   "source": [
    "### Vectorization\n",
    "\n",
    "To convert text data into vectors with numerical values\n",
    "(len(token) * len(dataset)) size of the vector\n"
   ]
  },
  {
   "cell_type": "code",
   "execution_count": 39,
   "metadata": {},
   "outputs": [],
   "source": [
    "def vectorizer(ds, vocabulary):\n",
    "    vectorized_lst = []\n",
    "    \n",
    "    for sentence in ds:\n",
    "        sentence_lst = np.zeros(len(vocabulary))\n",
    "        \n",
    "        for i in range(len(vocabulary)):\n",
    "            if vocabulary[i] in sentence.split():\n",
    "                sentence_lst[i] = 1\n",
    "                \n",
    "        vectorized_lst.append(sentence_lst)\n",
    "        \n",
    "    vectorized_lst_new = np.asarray(vectorized_lst, dtype=np.float32)\n",
    "    \n",
    "    return vectorized_lst_new"
   ]
  },
  {
   "cell_type": "code",
   "execution_count": 40,
   "metadata": {},
   "outputs": [],
   "source": [
    "vectorized_x_train = vectorizer(X_train, tokens)"
   ]
  },
  {
   "cell_type": "code",
   "execution_count": 41,
   "metadata": {},
   "outputs": [],
   "source": [
    "vectorized_x_test = vectorizer(X_test, tokens)"
   ]
  },
  {
   "cell_type": "code",
   "execution_count": 42,
   "metadata": {},
   "outputs": [
    {
     "data": {
      "text/plain": [
       "label\n",
       "0    4705\n",
       "1    1631\n",
       "Name: count, dtype: int64"
      ]
     },
     "execution_count": 42,
     "metadata": {},
     "output_type": "execute_result"
    }
   ],
   "source": [
    "y_train.value_counts()"
   ]
  },
  {
   "cell_type": "code",
   "execution_count": 43,
   "metadata": {},
   "outputs": [
    {
     "data": {
      "image/png": "[encoded data removed]",
      "text/plain": [
       "<Figure size 640x480 with 1 Axes>"
      ]
     },
     "metadata": {},
     "output_type": "display_data"
    }
   ],
   "source": [
    "plt.pie(np.array([y_train.value_counts()[0], y_train.value_counts()[1]]), labels=['Positive', 'Negative'])\n",
    "plt.show()"
   ]
  },
  {
   "cell_type": "markdown",
   "metadata": {},
   "source": [
    "### Handle imbalanced dataset"
   ]
  },
  {
   "cell_type": "code",
   "execution_count": 44,
   "metadata": {},
   "outputs": [
    {
     "name": "stdout",
     "output_type": "stream",
     "text": [
      "(9410, 1145) (9410,)\n"
     ]
    }
   ],
   "source": [
    "from imblearn.over_sampling import SMOTE\n",
    "smote = SMOTE()\n",
    "vectorized_x_train_smote, y_train_smote = smote.fit_resample(vectorized_x_train, y_train)\n",
    "print(vectorized_x_train_smote.shape, y_train_smote.shape)"
   ]
  },
  {
   "cell_type": "code",
   "execution_count": 45,
   "metadata": {},
   "outputs": [
    {
     "data": {
      "text/plain": [
       "label\n",
       "0    4705\n",
       "1    4705\n",
       "Name: count, dtype: int64"
      ]
     },
     "execution_count": 45,
     "metadata": {},
     "output_type": "execute_result"
    }
   ],
   "source": [
    "y_train_smote.value_counts()"
   ]
  },
  {
   "cell_type": "code",
   "execution_count": 46,
   "metadata": {},
   "outputs": [
    {
     "data": {
      "image/png": "[encoded data removed]",
      "text/plain": [
       "<Figure size 640x480 with 1 Axes>"
      ]
     },
     "metadata": {},
     "output_type": "display_data"
    }
   ],
   "source": [
    "plt.pie(np.array([y_train_smote.value_counts()[0], y_train_smote.value_counts()[1]]), labels=['Positive', 'Negative'])\n",
    "plt.show()"
   ]
  },
  {
   "cell_type": "code",
   "execution_count": 47,
   "metadata": {},
   "outputs": [
    {
     "data": {
      "text/plain": [
       "array([[0., 0., 0., ..., 0., 0., 0.],\n",
       "       [0., 0., 0., ..., 0., 0., 0.],\n",
       "       [0., 0., 0., ..., 0., 0., 0.],\n",
       "       ...,\n",
       "       [0., 0., 0., ..., 0., 0., 0.],\n",
       "       [0., 0., 0., ..., 0., 0., 0.],\n",
       "       [0., 0., 0., ..., 0., 0., 0.]], dtype=float32)"
      ]
     },
     "execution_count": 47,
     "metadata": {},
     "output_type": "execute_result"
    }
   ],
   "source": [
    "vectorized_x_train_smote\n",
    "y_train_smote\n",
    "vectorized_x_test\n",
    "y_test"
   ]
  },
  {
   "cell_type": "markdown",
   "metadata": {},
   "source": [
    "# Model Training and Evaluation"
   ]
  },
  {
   "cell_type": "code",
   "execution_count": 48,
   "metadata": {},
   "outputs": [],
   "source": [
    "from sklearn.linear_model import LogisticRegression\n",
    "from sklearn.naive_bayes import MultinomialNB\n",
    "from sklearn.tree import DecisionTreeClassifier\n",
    "from sklearn.ensemble import RandomForestClassifier\n",
    "from sklearn.svm import SVC"
   ]
  },
  {
   "cell_type": "code",
   "execution_count": 49,
   "metadata": {},
   "outputs": [],
   "source": [
    "from sklearn.metrics import accuracy_score, f1_score, precision_score, recall_score\n",
    "\n",
    "def training_scores(y_act, y_pred):\n",
    "    acc = round(accuracy_score(y_act, y_pred), 3)\n",
    "    pr = round(precision_score(y_act, y_pred), 3)\n",
    "    rec = round(recall_score(y_act, y_pred), 3)\n",
    "    f1 = round(f1_score(y_act, y_pred), 3)\n",
    "    print(f'Training Scores:\\n\\tAccuracy = {acc}\\n\\tPrecision = {pr}\\n\\tRecall = {rec}\\n\\tF1-Score = {f1}')\n",
    "    \n",
    "def validation_scores(y_act, y_pred):\n",
    "    acc = round(accuracy_score(y_act, y_pred), 3)\n",
    "    pr = round(precision_score(y_act, y_pred), 3)\n",
    "    rec = round(recall_score(y_act, y_pred), 3)\n",
    "    f1 = round(f1_score(y_act, y_pred), 3)\n",
    "    print(f'Testing Scores:\\n\\tAccuracy = {acc}\\n\\tPrecision = {pr}\\n\\tRecall = {rec}\\n\\tF1-Score = {f1}')"
   ]
  },
  {
   "cell_type": "markdown",
   "metadata": {},
   "source": [
    "Logistic Regression"
   ]
  },
  {
   "cell_type": "code",
   "execution_count": 50,
   "metadata": {},
   "outputs": [
    {
     "name": "stdout",
     "output_type": "stream",
     "text": [
      "Training Scores:\n",
      "\tAccuracy = 0.94\n",
      "\tPrecision = 0.918\n",
      "\tRecall = 0.967\n",
      "\tF1-Score = 0.942\n",
      "Testing Scores:\n",
      "\tAccuracy = 0.868\n",
      "\tPrecision = 0.693\n",
      "\tRecall = 0.846\n",
      "\tF1-Score = 0.762\n"
     ]
    }
   ],
   "source": [
    "lr = LogisticRegression()\n",
    "lr.fit(vectorized_x_train_smote, y_train_smote)\n",
    "\n",
    "y_train_pred = lr.predict(vectorized_x_train_smote)\n",
    "\n",
    "y_test_pred = lr.predict(vectorized_x_test)\n",
    "\n",
    "training_scores(y_train_smote, y_train_pred)\n",
    "\n",
    "validation_scores(y_test, y_test_pred)"
   ]
  },
  {
   "cell_type": "markdown",
   "metadata": {},
   "source": [
    "Naive Bayes"
   ]
  },
  {
   "cell_type": "code",
   "execution_count": 51,
   "metadata": {},
   "outputs": [
    {
     "name": "stdout",
     "output_type": "stream",
     "text": [
      "Training Scores:\n",
      "\tAccuracy = 0.908\n",
      "\tPrecision = 0.871\n",
      "\tRecall = 0.957\n",
      "\tF1-Score = 0.912\n",
      "Testing Scores:\n",
      "\tAccuracy = 0.865\n",
      "\tPrecision = 0.669\n",
      "\tRecall = 0.909\n",
      "\tF1-Score = 0.77\n"
     ]
    }
   ],
   "source": [
    "mnb = MultinomialNB()\n",
    "mnb.fit(vectorized_x_train_smote, y_train_smote)\n",
    "\n",
    "y_train_pred = mnb.predict(vectorized_x_train_smote)\n",
    "\n",
    "y_test_pred = mnb.predict(vectorized_x_test)\n",
    "\n",
    "training_scores(y_train_smote, y_train_pred)\n",
    "\n",
    "validation_scores(y_test, y_test_pred)"
   ]
  },
  {
   "cell_type": "markdown",
   "metadata": {},
   "source": [
    "Decision Tree"
   ]
  },
  {
   "cell_type": "code",
   "execution_count": 52,
   "metadata": {},
   "outputs": [
    {
     "name": "stdout",
     "output_type": "stream",
     "text": [
      "Training Scores:\n",
      "\tAccuracy = 1.0\n",
      "\tPrecision = 1.0\n",
      "\tRecall = 1.0\n",
      "\tF1-Score = 1.0\n",
      "Testing Scores:\n",
      "\tAccuracy = 0.827\n",
      "\tPrecision = 0.647\n",
      "\tRecall = 0.673\n",
      "\tF1-Score = 0.66\n"
     ]
    }
   ],
   "source": [
    "dt = DecisionTreeClassifier()\n",
    "\n",
    "dt.fit(vectorized_x_train_smote, y_train_smote)\n",
    "\n",
    "y_train_pred = dt.predict(vectorized_x_train_smote)\n",
    "\n",
    "y_test_pred = dt.predict(vectorized_x_test)\n",
    "\n",
    "training_scores(y_train_smote, y_train_pred)\n",
    "\n",
    "validation_scores(y_test, y_test_pred)"
   ]
  },
  {
   "cell_type": "markdown",
   "metadata": {},
   "source": [
    "Random Forest"
   ]
  },
  {
   "cell_type": "code",
   "execution_count": 53,
   "metadata": {},
   "outputs": [
    {
     "name": "stdout",
     "output_type": "stream",
     "text": [
      "Training Scores:\n",
      "\tAccuracy = 1.0\n",
      "\tPrecision = 1.0\n",
      "\tRecall = 1.0\n",
      "\tF1-Score = 1.0\n",
      "Testing Scores:\n",
      "\tAccuracy = 0.872\n",
      "\tPrecision = 0.746\n",
      "\tRecall = 0.742\n",
      "\tF1-Score = 0.744\n"
     ]
    }
   ],
   "source": [
    "rf = RandomForestClassifier()\n",
    "\n",
    "rf.fit(vectorized_x_train_smote, y_train_smote)\n",
    "\n",
    "y_train_pred = rf.predict(vectorized_x_train_smote)\n",
    "\n",
    "y_test_pred = rf.predict(vectorized_x_test)\n",
    "\n",
    "training_scores(y_train_smote, y_train_pred)\n",
    "\n",
    "validation_scores(y_test, y_test_pred)"
   ]
  },
  {
   "cell_type": "markdown",
   "metadata": {},
   "source": [
    "Support Vector Machine"
   ]
  },
  {
   "cell_type": "code",
   "execution_count": 54,
   "metadata": {},
   "outputs": [
    {
     "name": "stdout",
     "output_type": "stream",
     "text": [
      "Training Scores:\n",
      "\tAccuracy = 0.979\n",
      "\tPrecision = 0.964\n",
      "\tRecall = 0.995\n",
      "\tF1-Score = 0.979\n",
      "Testing Scores:\n",
      "\tAccuracy = 0.884\n",
      "\tPrecision = 0.744\n",
      "\tRecall = 0.815\n",
      "\tF1-Score = 0.778\n"
     ]
    }
   ],
   "source": [
    "svm = SVC()\n",
    "\n",
    "svm.fit(vectorized_x_train_smote, y_train_smote)\n",
    "\n",
    "y_train_pred = svm.predict(vectorized_x_train_smote)\n",
    "\n",
    "y_test_pred = svm.predict(vectorized_x_test)\n",
    "\n",
    "training_scores(y_train_smote, y_train_pred)\n",
    "\n",
    "validation_scores(y_test, y_test_pred)"
   ]
  },
  {
   "cell_type": "markdown",
   "metadata": {},
   "source": [
    "Save the selected model"
   ]
  },
  {
   "cell_type": "code",
   "execution_count": 55,
   "metadata": {},
   "outputs": [],
   "source": [
    "import pickle\n",
    "\n",
    "with open('../static/model/model.pickle', 'wb') as file:\n",
    "    pickle.dump(lr, file)\n"
   ]
  },
  {
   "cell_type": "code",
   "execution_count": null,
   "metadata": {},
   "outputs": [],
   "source": []
  }
 ],
 "metadata": {
  "kernelspec": {
   "display_name": "senti_analysis",
   "language": "python",
   "name": "python3"
  },
  "language_info": {
   "codemirror_mode": {
    "name": "ipython",
    "version": 3
   },
   "file_extension": ".py",
   "mimetype": "text/x-python",
   "name": "python",
   "nbconvert_exporter": "python",
   "pygments_lexer": "ipython3",
   "version": "3.8.19"
  }
 },
 "nbformat": 4,
 "nbformat_minor": 2
}
